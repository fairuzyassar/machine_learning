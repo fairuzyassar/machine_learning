{
 "cells": [
  {
   "cell_type": "code",
   "execution_count": 90,
   "metadata": {},
   "outputs": [],
   "source": [
    "import pandas as pd\n",
    "import numpy as np\n",
    "import matplotlib.pyplot as plt\n",
    "import seaborn as sns"
   ]
  },
  {
   "cell_type": "code",
   "execution_count": 91,
   "metadata": {},
   "outputs": [],
   "source": [
    "train = pd.read_csv('Data_training.csv', header=0)\n",
    "test = pd.read_csv('Data_testing.csv', header=0)"
   ]
  },
  {
   "cell_type": "code",
   "execution_count": 92,
   "metadata": {},
   "outputs": [
    {
     "name": "stdout",
     "output_type": "stream",
     "text": [
      "Training shape:\n",
      "(31188, 21)\n",
      "\n",
      " Training shape:\n",
      "(10000, 20)\n"
     ]
    }
   ],
   "source": [
    "print(\"Training shape:\")\n",
    "print(train.shape)\n",
    "print(\"\\n Training shape:\")\n",
    "print(test.shape)"
   ]
  },
  {
   "cell_type": "code",
   "execution_count": 93,
   "metadata": {
    "scrolled": true
   },
   "outputs": [
    {
     "data": {
      "text/html": [
       "<div>\n",
       "<style scoped>\n",
       "    .dataframe tbody tr th:only-of-type {\n",
       "        vertical-align: middle;\n",
       "    }\n",
       "\n",
       "    .dataframe tbody tr th {\n",
       "        vertical-align: top;\n",
       "    }\n",
       "\n",
       "    .dataframe thead th {\n",
       "        text-align: right;\n",
       "    }\n",
       "</style>\n",
       "<table border=\"1\" class=\"dataframe\">\n",
       "  <thead>\n",
       "    <tr style=\"text-align: right;\">\n",
       "      <th></th>\n",
       "      <th>age</th>\n",
       "      <th>duration</th>\n",
       "      <th>campaign</th>\n",
       "      <th>pdays</th>\n",
       "      <th>previous</th>\n",
       "      <th>emp.var.rate</th>\n",
       "      <th>cons.price.idx</th>\n",
       "      <th>cons.conf.idx</th>\n",
       "      <th>euribor3m</th>\n",
       "      <th>nr.employed</th>\n",
       "    </tr>\n",
       "  </thead>\n",
       "  <tbody>\n",
       "    <tr>\n",
       "      <th>count</th>\n",
       "      <td>31188.000000</td>\n",
       "      <td>31188.000000</td>\n",
       "      <td>31188.000000</td>\n",
       "      <td>31188.000000</td>\n",
       "      <td>31188.000000</td>\n",
       "      <td>31188.000000</td>\n",
       "      <td>31188.000000</td>\n",
       "      <td>31188.000000</td>\n",
       "      <td>31188.000000</td>\n",
       "      <td>31188.00000</td>\n",
       "    </tr>\n",
       "    <tr>\n",
       "      <th>mean</th>\n",
       "      <td>39.974990</td>\n",
       "      <td>257.557650</td>\n",
       "      <td>2.535046</td>\n",
       "      <td>950.764364</td>\n",
       "      <td>0.228421</td>\n",
       "      <td>-0.269530</td>\n",
       "      <td>93.402326</td>\n",
       "      <td>-41.368562</td>\n",
       "      <td>3.220285</td>\n",
       "      <td>5156.26406</td>\n",
       "    </tr>\n",
       "    <tr>\n",
       "      <th>std</th>\n",
       "      <td>10.874895</td>\n",
       "      <td>262.397636</td>\n",
       "      <td>2.722974</td>\n",
       "      <td>213.477822</td>\n",
       "      <td>0.557489</td>\n",
       "      <td>1.656815</td>\n",
       "      <td>0.552322</td>\n",
       "      <td>4.837627</td>\n",
       "      <td>1.819390</td>\n",
       "      <td>79.57002</td>\n",
       "    </tr>\n",
       "    <tr>\n",
       "      <th>min</th>\n",
       "      <td>17.000000</td>\n",
       "      <td>0.000000</td>\n",
       "      <td>1.000000</td>\n",
       "      <td>0.000000</td>\n",
       "      <td>0.000000</td>\n",
       "      <td>-3.400000</td>\n",
       "      <td>92.201000</td>\n",
       "      <td>-50.800000</td>\n",
       "      <td>0.634000</td>\n",
       "      <td>4963.60000</td>\n",
       "    </tr>\n",
       "    <tr>\n",
       "      <th>25%</th>\n",
       "      <td>32.000000</td>\n",
       "      <td>100.000000</td>\n",
       "      <td>1.000000</td>\n",
       "      <td>999.000000</td>\n",
       "      <td>0.000000</td>\n",
       "      <td>-1.800000</td>\n",
       "      <td>92.893000</td>\n",
       "      <td>-46.200000</td>\n",
       "      <td>1.291000</td>\n",
       "      <td>5099.10000</td>\n",
       "    </tr>\n",
       "    <tr>\n",
       "      <th>50%</th>\n",
       "      <td>38.000000</td>\n",
       "      <td>176.000000</td>\n",
       "      <td>2.000000</td>\n",
       "      <td>999.000000</td>\n",
       "      <td>0.000000</td>\n",
       "      <td>-0.100000</td>\n",
       "      <td>93.444000</td>\n",
       "      <td>-42.000000</td>\n",
       "      <td>4.120000</td>\n",
       "      <td>5195.80000</td>\n",
       "    </tr>\n",
       "    <tr>\n",
       "      <th>75%</th>\n",
       "      <td>47.000000</td>\n",
       "      <td>319.000000</td>\n",
       "      <td>3.000000</td>\n",
       "      <td>999.000000</td>\n",
       "      <td>0.000000</td>\n",
       "      <td>1.400000</td>\n",
       "      <td>93.918000</td>\n",
       "      <td>-36.100000</td>\n",
       "      <td>4.962000</td>\n",
       "      <td>5228.10000</td>\n",
       "    </tr>\n",
       "    <tr>\n",
       "      <th>max</th>\n",
       "      <td>98.000000</td>\n",
       "      <td>4918.000000</td>\n",
       "      <td>43.000000</td>\n",
       "      <td>999.000000</td>\n",
       "      <td>7.000000</td>\n",
       "      <td>1.400000</td>\n",
       "      <td>94.767000</td>\n",
       "      <td>-26.900000</td>\n",
       "      <td>5.045000</td>\n",
       "      <td>5228.10000</td>\n",
       "    </tr>\n",
       "  </tbody>\n",
       "</table>\n",
       "</div>"
      ],
      "text/plain": [
       "                age      duration      campaign         pdays      previous  \\\n",
       "count  31188.000000  31188.000000  31188.000000  31188.000000  31188.000000   \n",
       "mean      39.974990    257.557650      2.535046    950.764364      0.228421   \n",
       "std       10.874895    262.397636      2.722974    213.477822      0.557489   \n",
       "min       17.000000      0.000000      1.000000      0.000000      0.000000   \n",
       "25%       32.000000    100.000000      1.000000    999.000000      0.000000   \n",
       "50%       38.000000    176.000000      2.000000    999.000000      0.000000   \n",
       "75%       47.000000    319.000000      3.000000    999.000000      0.000000   \n",
       "max       98.000000   4918.000000     43.000000    999.000000      7.000000   \n",
       "\n",
       "       emp.var.rate  cons.price.idx  cons.conf.idx     euribor3m  nr.employed  \n",
       "count  31188.000000    31188.000000   31188.000000  31188.000000  31188.00000  \n",
       "mean      -0.269530       93.402326     -41.368562      3.220285   5156.26406  \n",
       "std        1.656815        0.552322       4.837627      1.819390     79.57002  \n",
       "min       -3.400000       92.201000     -50.800000      0.634000   4963.60000  \n",
       "25%       -1.800000       92.893000     -46.200000      1.291000   5099.10000  \n",
       "50%       -0.100000       93.444000     -42.000000      4.120000   5195.80000  \n",
       "75%        1.400000       93.918000     -36.100000      4.962000   5228.10000  \n",
       "max        1.400000       94.767000     -26.900000      5.045000   5228.10000  "
      ]
     },
     "execution_count": 93,
     "metadata": {},
     "output_type": "execute_result"
    }
   ],
   "source": [
    "train.describe()"
   ]
  },
  {
   "cell_type": "code",
   "execution_count": 95,
   "metadata": {},
   "outputs": [
    {
     "data": {
      "image/png": "[encoded data removed]",
      "text/plain": [
       "<Figure size 432x288 with 1 Axes>"
      ]
     },
     "metadata": {
      "needs_background": "light"
     },
     "output_type": "display_data"
    }
   ],
   "source": [
    "plt.boxplot(train['duration'])\n",
    "plt.show()"
   ]
  },
  {
   "cell_type": "code",
   "execution_count": 98,
   "metadata": {},
   "outputs": [
    {
     "data": {
      "text/html": [
       "<div>\n",
       "<style scoped>\n",
       "    .dataframe tbody tr th:only-of-type {\n",
       "        vertical-align: middle;\n",
       "    }\n",
       "\n",
       "    .dataframe tbody tr th {\n",
       "        vertical-align: top;\n",
       "    }\n",
       "\n",
       "    .dataframe thead th {\n",
       "        text-align: right;\n",
       "    }\n",
       "</style>\n",
       "<table border=\"1\" class=\"dataframe\">\n",
       "  <thead>\n",
       "    <tr style=\"text-align: right;\">\n",
       "      <th></th>\n",
       "      <th>age</th>\n",
       "      <th>duration</th>\n",
       "    </tr>\n",
       "  </thead>\n",
       "  <tbody>\n",
       "    <tr>\n",
       "      <th>14091</th>\n",
       "      <td>33</td>\n",
       "      <td>4918</td>\n",
       "    </tr>\n",
       "    <tr>\n",
       "      <th>12192</th>\n",
       "      <td>52</td>\n",
       "      <td>4199</td>\n",
       "    </tr>\n",
       "    <tr>\n",
       "      <th>30537</th>\n",
       "      <td>27</td>\n",
       "      <td>3785</td>\n",
       "    </tr>\n",
       "    <tr>\n",
       "      <th>3820</th>\n",
       "      <td>31</td>\n",
       "      <td>3643</td>\n",
       "    </tr>\n",
       "    <tr>\n",
       "      <th>26043</th>\n",
       "      <td>28</td>\n",
       "      <td>3509</td>\n",
       "    </tr>\n",
       "    <tr>\n",
       "      <th>9632</th>\n",
       "      <td>47</td>\n",
       "      <td>3422</td>\n",
       "    </tr>\n",
       "    <tr>\n",
       "      <th>10996</th>\n",
       "      <td>47</td>\n",
       "      <td>3322</td>\n",
       "    </tr>\n",
       "    <tr>\n",
       "      <th>14043</th>\n",
       "      <td>27</td>\n",
       "      <td>3284</td>\n",
       "    </tr>\n",
       "    <tr>\n",
       "      <th>14004</th>\n",
       "      <td>46</td>\n",
       "      <td>3253</td>\n",
       "    </tr>\n",
       "    <tr>\n",
       "      <th>2029</th>\n",
       "      <td>58</td>\n",
       "      <td>3183</td>\n",
       "    </tr>\n",
       "    <tr>\n",
       "      <th>17833</th>\n",
       "      <td>28</td>\n",
       "      <td>3076</td>\n",
       "    </tr>\n",
       "    <tr>\n",
       "      <th>19286</th>\n",
       "      <td>40</td>\n",
       "      <td>2926</td>\n",
       "    </tr>\n",
       "    <tr>\n",
       "      <th>18010</th>\n",
       "      <td>54</td>\n",
       "      <td>2870</td>\n",
       "    </tr>\n",
       "    <tr>\n",
       "      <th>456</th>\n",
       "      <td>47</td>\n",
       "      <td>2769</td>\n",
       "    </tr>\n",
       "    <tr>\n",
       "      <th>8284</th>\n",
       "      <td>32</td>\n",
       "      <td>2692</td>\n",
       "    </tr>\n",
       "    <tr>\n",
       "      <th>1360</th>\n",
       "      <td>26</td>\n",
       "      <td>2635</td>\n",
       "    </tr>\n",
       "    <tr>\n",
       "      <th>707</th>\n",
       "      <td>30</td>\n",
       "      <td>2621</td>\n",
       "    </tr>\n",
       "    <tr>\n",
       "      <th>7808</th>\n",
       "      <td>33</td>\n",
       "      <td>2516</td>\n",
       "    </tr>\n",
       "    <tr>\n",
       "      <th>29171</th>\n",
       "      <td>53</td>\n",
       "      <td>2486</td>\n",
       "    </tr>\n",
       "    <tr>\n",
       "      <th>14400</th>\n",
       "      <td>34</td>\n",
       "      <td>2462</td>\n",
       "    </tr>\n",
       "    <tr>\n",
       "      <th>16999</th>\n",
       "      <td>30</td>\n",
       "      <td>2453</td>\n",
       "    </tr>\n",
       "    <tr>\n",
       "      <th>14008</th>\n",
       "      <td>35</td>\n",
       "      <td>2429</td>\n",
       "    </tr>\n",
       "    <tr>\n",
       "      <th>16938</th>\n",
       "      <td>33</td>\n",
       "      <td>2420</td>\n",
       "    </tr>\n",
       "    <tr>\n",
       "      <th>13616</th>\n",
       "      <td>42</td>\n",
       "      <td>2372</td>\n",
       "    </tr>\n",
       "    <tr>\n",
       "      <th>18166</th>\n",
       "      <td>57</td>\n",
       "      <td>2316</td>\n",
       "    </tr>\n",
       "    <tr>\n",
       "      <th>25559</th>\n",
       "      <td>33</td>\n",
       "      <td>2301</td>\n",
       "    </tr>\n",
       "    <tr>\n",
       "      <th>18204</th>\n",
       "      <td>34</td>\n",
       "      <td>2299</td>\n",
       "    </tr>\n",
       "    <tr>\n",
       "      <th>26510</th>\n",
       "      <td>39</td>\n",
       "      <td>2219</td>\n",
       "    </tr>\n",
       "    <tr>\n",
       "      <th>9313</th>\n",
       "      <td>39</td>\n",
       "      <td>2191</td>\n",
       "    </tr>\n",
       "    <tr>\n",
       "      <th>28388</th>\n",
       "      <td>59</td>\n",
       "      <td>2187</td>\n",
       "    </tr>\n",
       "    <tr>\n",
       "      <th>...</th>\n",
       "      <td>...</td>\n",
       "      <td>...</td>\n",
       "    </tr>\n",
       "    <tr>\n",
       "      <th>30268</th>\n",
       "      <td>33</td>\n",
       "      <td>5</td>\n",
       "    </tr>\n",
       "    <tr>\n",
       "      <th>30534</th>\n",
       "      <td>30</td>\n",
       "      <td>5</td>\n",
       "    </tr>\n",
       "    <tr>\n",
       "      <th>30531</th>\n",
       "      <td>33</td>\n",
       "      <td>5</td>\n",
       "    </tr>\n",
       "    <tr>\n",
       "      <th>30527</th>\n",
       "      <td>45</td>\n",
       "      <td>5</td>\n",
       "    </tr>\n",
       "    <tr>\n",
       "      <th>8775</th>\n",
       "      <td>27</td>\n",
       "      <td>5</td>\n",
       "    </tr>\n",
       "    <tr>\n",
       "      <th>14036</th>\n",
       "      <td>26</td>\n",
       "      <td>5</td>\n",
       "    </tr>\n",
       "    <tr>\n",
       "      <th>14067</th>\n",
       "      <td>25</td>\n",
       "      <td>5</td>\n",
       "    </tr>\n",
       "    <tr>\n",
       "      <th>2317</th>\n",
       "      <td>50</td>\n",
       "      <td>5</td>\n",
       "    </tr>\n",
       "    <tr>\n",
       "      <th>30712</th>\n",
       "      <td>25</td>\n",
       "      <td>5</td>\n",
       "    </tr>\n",
       "    <tr>\n",
       "      <th>30705</th>\n",
       "      <td>31</td>\n",
       "      <td>5</td>\n",
       "    </tr>\n",
       "    <tr>\n",
       "      <th>30704</th>\n",
       "      <td>33</td>\n",
       "      <td>5</td>\n",
       "    </tr>\n",
       "    <tr>\n",
       "      <th>23644</th>\n",
       "      <td>47</td>\n",
       "      <td>5</td>\n",
       "    </tr>\n",
       "    <tr>\n",
       "      <th>19964</th>\n",
       "      <td>36</td>\n",
       "      <td>5</td>\n",
       "    </tr>\n",
       "    <tr>\n",
       "      <th>288</th>\n",
       "      <td>60</td>\n",
       "      <td>5</td>\n",
       "    </tr>\n",
       "    <tr>\n",
       "      <th>30582</th>\n",
       "      <td>26</td>\n",
       "      <td>4</td>\n",
       "    </tr>\n",
       "    <tr>\n",
       "      <th>14020</th>\n",
       "      <td>35</td>\n",
       "      <td>4</td>\n",
       "    </tr>\n",
       "    <tr>\n",
       "      <th>30526</th>\n",
       "      <td>49</td>\n",
       "      <td>4</td>\n",
       "    </tr>\n",
       "    <tr>\n",
       "      <th>30536</th>\n",
       "      <td>58</td>\n",
       "      <td>4</td>\n",
       "    </tr>\n",
       "    <tr>\n",
       "      <th>1662</th>\n",
       "      <td>42</td>\n",
       "      <td>4</td>\n",
       "    </tr>\n",
       "    <tr>\n",
       "      <th>30255</th>\n",
       "      <td>34</td>\n",
       "      <td>4</td>\n",
       "    </tr>\n",
       "    <tr>\n",
       "      <th>30924</th>\n",
       "      <td>28</td>\n",
       "      <td>4</td>\n",
       "    </tr>\n",
       "    <tr>\n",
       "      <th>30918</th>\n",
       "      <td>26</td>\n",
       "      <td>4</td>\n",
       "    </tr>\n",
       "    <tr>\n",
       "      <th>25764</th>\n",
       "      <td>36</td>\n",
       "      <td>4</td>\n",
       "    </tr>\n",
       "    <tr>\n",
       "      <th>14999</th>\n",
       "      <td>50</td>\n",
       "      <td>2</td>\n",
       "    </tr>\n",
       "    <tr>\n",
       "      <th>30687</th>\n",
       "      <td>38</td>\n",
       "      <td>1</td>\n",
       "    </tr>\n",
       "    <tr>\n",
       "      <th>30554</th>\n",
       "      <td>72</td>\n",
       "      <td>1</td>\n",
       "    </tr>\n",
       "    <tr>\n",
       "      <th>18239</th>\n",
       "      <td>44</td>\n",
       "      <td>1</td>\n",
       "    </tr>\n",
       "    <tr>\n",
       "      <th>18063</th>\n",
       "      <td>53</td>\n",
       "      <td>0</td>\n",
       "    </tr>\n",
       "    <tr>\n",
       "      <th>23015</th>\n",
       "      <td>31</td>\n",
       "      <td>0</td>\n",
       "    </tr>\n",
       "    <tr>\n",
       "      <th>13031</th>\n",
       "      <td>59</td>\n",
       "      <td>0</td>\n",
       "    </tr>\n",
       "  </tbody>\n",
       "</table>\n",
       "<p>31188 rows × 2 columns</p>\n",
       "</div>"
      ],
      "text/plain": [
       "       age  duration\n",
       "14091   33      4918\n",
       "12192   52      4199\n",
       "30537   27      3785\n",
       "3820    31      3643\n",
       "26043   28      3509\n",
       "9632    47      3422\n",
       "10996   47      3322\n",
       "14043   27      3284\n",
       "14004   46      3253\n",
       "2029    58      3183\n",
       "17833   28      3076\n",
       "19286   40      2926\n",
       "18010   54      2870\n",
       "456     47      2769\n",
       "8284    32      2692\n",
       "1360    26      2635\n",
       "707     30      2621\n",
       "7808    33      2516\n",
       "29171   53      2486\n",
       "14400   34      2462\n",
       "16999   30      2453\n",
       "14008   35      2429\n",
       "16938   33      2420\n",
       "13616   42      2372\n",
       "18166   57      2316\n",
       "25559   33      2301\n",
       "18204   34      2299\n",
       "26510   39      2219\n",
       "9313    39      2191\n",
       "28388   59      2187\n",
       "...    ...       ...\n",
       "30268   33         5\n",
       "30534   30         5\n",
       "30531   33         5\n",
       "30527   45         5\n",
       "8775    27         5\n",
       "14036   26         5\n",
       "14067   25         5\n",
       "2317    50         5\n",
       "30712   25         5\n",
       "30705   31         5\n",
       "30704   33         5\n",
       "23644   47         5\n",
       "19964   36         5\n",
       "288     60         5\n",
       "30582   26         4\n",
       "14020   35         4\n",
       "30526   49         4\n",
       "30536   58         4\n",
       "1662    42         4\n",
       "30255   34         4\n",
       "30924   28         4\n",
       "30918   26         4\n",
       "25764   36         4\n",
       "14999   50         2\n",
       "30687   38         1\n",
       "30554   72         1\n",
       "18239   44         1\n",
       "18063   53         0\n",
       "23015   31         0\n",
       "13031   59         0\n",
       "\n",
       "[31188 rows x 2 columns]"
      ]
     },
     "execution_count": 98,
     "metadata": {},
     "output_type": "execute_result"
    }
   ],
   "source": [
    "train[['age', 'duration']].sort_values(by='duration', ascending=False)"
   ]
  },
  {
   "cell_type": "code",
   "execution_count": 99,
   "metadata": {},
   "outputs": [
    {
     "data": {
      "text/html": [
       "<div>\n",
       "<style scoped>\n",
       "    .dataframe tbody tr th:only-of-type {\n",
       "        vertical-align: middle;\n",
       "    }\n",
       "\n",
       "    .dataframe tbody tr th {\n",
       "        vertical-align: top;\n",
       "    }\n",
       "\n",
       "    .dataframe thead th {\n",
       "        text-align: right;\n",
       "    }\n",
       "</style>\n",
       "<table border=\"1\" class=\"dataframe\">\n",
       "  <thead>\n",
       "    <tr style=\"text-align: right;\">\n",
       "      <th></th>\n",
       "      <th>age</th>\n",
       "      <th>duration</th>\n",
       "      <th>campaign</th>\n",
       "      <th>pdays</th>\n",
       "      <th>previous</th>\n",
       "      <th>emp.var.rate</th>\n",
       "      <th>cons.price.idx</th>\n",
       "      <th>cons.conf.idx</th>\n",
       "      <th>euribor3m</th>\n",
       "      <th>nr.employed</th>\n",
       "    </tr>\n",
       "  </thead>\n",
       "  <tbody>\n",
       "    <tr>\n",
       "      <th>count</th>\n",
       "      <td>10000.000000</td>\n",
       "      <td>10000.000000</td>\n",
       "      <td>10000.000000</td>\n",
       "      <td>10000.0</td>\n",
       "      <td>10000.0</td>\n",
       "      <td>10000.000000</td>\n",
       "      <td>10000.000000</td>\n",
       "      <td>10000.00000</td>\n",
       "      <td>10000.000000</td>\n",
       "      <td>10000.000000</td>\n",
       "    </tr>\n",
       "    <tr>\n",
       "      <th>mean</th>\n",
       "      <td>40.177100</td>\n",
       "      <td>260.553500</td>\n",
       "      <td>2.669100</td>\n",
       "      <td>999.0</td>\n",
       "      <td>0.0</td>\n",
       "      <td>1.177880</td>\n",
       "      <td>94.116272</td>\n",
       "      <td>-37.80184</td>\n",
       "      <td>4.871949</td>\n",
       "      <td>5200.631160</td>\n",
       "    </tr>\n",
       "    <tr>\n",
       "      <th>std</th>\n",
       "      <td>8.857199</td>\n",
       "      <td>249.302378</td>\n",
       "      <td>2.909648</td>\n",
       "      <td>0.0</td>\n",
       "      <td>0.0</td>\n",
       "      <td>0.131531</td>\n",
       "      <td>0.206504</td>\n",
       "      <td>2.36756</td>\n",
       "      <td>0.034591</td>\n",
       "      <td>16.266015</td>\n",
       "    </tr>\n",
       "    <tr>\n",
       "      <th>min</th>\n",
       "      <td>20.000000</td>\n",
       "      <td>0.000000</td>\n",
       "      <td>1.000000</td>\n",
       "      <td>999.0</td>\n",
       "      <td>0.0</td>\n",
       "      <td>1.100000</td>\n",
       "      <td>93.994000</td>\n",
       "      <td>-41.80000</td>\n",
       "      <td>4.855000</td>\n",
       "      <td>5191.000000</td>\n",
       "    </tr>\n",
       "    <tr>\n",
       "      <th>25%</th>\n",
       "      <td>33.000000</td>\n",
       "      <td>111.000000</td>\n",
       "      <td>1.000000</td>\n",
       "      <td>999.0</td>\n",
       "      <td>0.0</td>\n",
       "      <td>1.100000</td>\n",
       "      <td>93.994000</td>\n",
       "      <td>-41.80000</td>\n",
       "      <td>4.857000</td>\n",
       "      <td>5191.000000</td>\n",
       "    </tr>\n",
       "    <tr>\n",
       "      <th>50%</th>\n",
       "      <td>39.000000</td>\n",
       "      <td>188.000000</td>\n",
       "      <td>2.000000</td>\n",
       "      <td>999.0</td>\n",
       "      <td>0.0</td>\n",
       "      <td>1.100000</td>\n",
       "      <td>93.994000</td>\n",
       "      <td>-36.40000</td>\n",
       "      <td>4.858000</td>\n",
       "      <td>5191.000000</td>\n",
       "    </tr>\n",
       "    <tr>\n",
       "      <th>75%</th>\n",
       "      <td>47.000000</td>\n",
       "      <td>320.000000</td>\n",
       "      <td>3.000000</td>\n",
       "      <td>999.0</td>\n",
       "      <td>0.0</td>\n",
       "      <td>1.400000</td>\n",
       "      <td>94.465000</td>\n",
       "      <td>-36.40000</td>\n",
       "      <td>4.864000</td>\n",
       "      <td>5228.100000</td>\n",
       "    </tr>\n",
       "    <tr>\n",
       "      <th>max</th>\n",
       "      <td>61.000000</td>\n",
       "      <td>3631.000000</td>\n",
       "      <td>56.000000</td>\n",
       "      <td>999.0</td>\n",
       "      <td>0.0</td>\n",
       "      <td>1.400000</td>\n",
       "      <td>94.465000</td>\n",
       "      <td>-36.40000</td>\n",
       "      <td>4.967000</td>\n",
       "      <td>5228.100000</td>\n",
       "    </tr>\n",
       "  </tbody>\n",
       "</table>\n",
       "</div>"
      ],
      "text/plain": [
       "                age      duration      campaign    pdays  previous  \\\n",
       "count  10000.000000  10000.000000  10000.000000  10000.0   10000.0   \n",
       "mean      40.177100    260.553500      2.669100    999.0       0.0   \n",
       "std        8.857199    249.302378      2.909648      0.0       0.0   \n",
       "min       20.000000      0.000000      1.000000    999.0       0.0   \n",
       "25%       33.000000    111.000000      1.000000    999.0       0.0   \n",
       "50%       39.000000    188.000000      2.000000    999.0       0.0   \n",
       "75%       47.000000    320.000000      3.000000    999.0       0.0   \n",
       "max       61.000000   3631.000000     56.000000    999.0       0.0   \n",
       "\n",
       "       emp.var.rate  cons.price.idx  cons.conf.idx     euribor3m   nr.employed  \n",
       "count  10000.000000    10000.000000    10000.00000  10000.000000  10000.000000  \n",
       "mean       1.177880       94.116272      -37.80184      4.871949   5200.631160  \n",
       "std        0.131531        0.206504        2.36756      0.034591     16.266015  \n",
       "min        1.100000       93.994000      -41.80000      4.855000   5191.000000  \n",
       "25%        1.100000       93.994000      -41.80000      4.857000   5191.000000  \n",
       "50%        1.100000       93.994000      -36.40000      4.858000   5191.000000  \n",
       "75%        1.400000       94.465000      -36.40000      4.864000   5228.100000  \n",
       "max        1.400000       94.465000      -36.40000      4.967000   5228.100000  "
      ]
     },
     "execution_count": 99,
     "metadata": {},
     "output_type": "execute_result"
    }
   ],
   "source": [
    "test.describe()"
   ]
  },
  {
   "cell_type": "code",
   "execution_count": 100,
   "metadata": {},
   "outputs": [],
   "source": [
    "train_no_dup = train.drop_duplicates()"
   ]
  },
  {
   "cell_type": "code",
   "execution_count": 102,
   "metadata": {},
   "outputs": [
    {
     "data": {
      "text/plain": [
       "(31177, 21)"
      ]
     },
     "execution_count": 102,
     "metadata": {},
     "output_type": "execute_result"
    }
   ],
   "source": [
    "train_no_dup.shape"
   ]
  },
  {
   "cell_type": "code",
   "execution_count": 103,
   "metadata": {},
   "outputs": [],
   "source": [
    "train_no_dup = train_no_dup[train_no_dup.duration != 4199]"
   ]
  },
  {
   "cell_type": "code",
   "execution_count": 104,
   "metadata": {},
   "outputs": [],
   "source": [
    "train_no_dup = train_no_dup[train_no_dup.duration != 4918]"
   ]
  },
  {
   "cell_type": "code",
   "execution_count": 105,
   "metadata": {},
   "outputs": [],
   "source": [
    "train_no_dup = train_no_dup.drop(['job', 'education', 'pdays'], axis=1)"
   ]
  },
  {
   "cell_type": "code",
   "execution_count": 139,
   "metadata": {},
   "outputs": [],
   "source": [
    "test_no_dup = test.drop(['job', 'education', 'pdays'], axis=1)"
   ]
  },
  {
   "cell_type": "code",
   "execution_count": 109,
   "metadata": {},
   "outputs": [
    {
     "data": {
      "text/plain": [
       "(31175, 18)"
      ]
     },
     "execution_count": 109,
     "metadata": {},
     "output_type": "execute_result"
    }
   ],
   "source": [
    "train_no_dup.shape"
   ]
  },
  {
   "cell_type": "code",
   "execution_count": 110,
   "metadata": {},
   "outputs": [],
   "source": [
    "train_no_dup = train_no_dup.drop_duplicates()"
   ]
  },
  {
   "cell_type": "code",
   "execution_count": 114,
   "metadata": {},
   "outputs": [
    {
     "data": {
      "text/plain": [
       "(31160, 18)"
      ]
     },
     "execution_count": 114,
     "metadata": {},
     "output_type": "execute_result"
    }
   ],
   "source": [
    "train_no_dup.shape"
   ]
  },
  {
   "cell_type": "code",
   "execution_count": 115,
   "metadata": {},
   "outputs": [],
   "source": [
    "train_copy = train_no_dup.copy()\n"
   ]
  },
  {
   "cell_type": "code",
   "execution_count": 140,
   "metadata": {},
   "outputs": [],
   "source": [
    "test_copy = test_no_dup.copy()"
   ]
  },
  {
   "cell_type": "code",
   "execution_count": 141,
   "metadata": {},
   "outputs": [
    {
     "data": {
      "text/html": [
       "<div>\n",
       "<style scoped>\n",
       "    .dataframe tbody tr th:only-of-type {\n",
       "        vertical-align: middle;\n",
       "    }\n",
       "\n",
       "    .dataframe tbody tr th {\n",
       "        vertical-align: top;\n",
       "    }\n",
       "\n",
       "    .dataframe thead th {\n",
       "        text-align: right;\n",
       "    }\n",
       "</style>\n",
       "<table border=\"1\" class=\"dataframe\">\n",
       "  <thead>\n",
       "    <tr style=\"text-align: right;\">\n",
       "      <th></th>\n",
       "      <th>age</th>\n",
       "      <th>marital</th>\n",
       "      <th>default</th>\n",
       "      <th>housing</th>\n",
       "      <th>loan</th>\n",
       "      <th>contact</th>\n",
       "      <th>month</th>\n",
       "      <th>day_of_week</th>\n",
       "      <th>duration</th>\n",
       "      <th>campaign</th>\n",
       "      <th>previous</th>\n",
       "      <th>poutcome</th>\n",
       "      <th>emp.var.rate</th>\n",
       "      <th>cons.price.idx</th>\n",
       "      <th>cons.conf.idx</th>\n",
       "      <th>euribor3m</th>\n",
       "      <th>nr.employed</th>\n",
       "    </tr>\n",
       "  </thead>\n",
       "  <tbody>\n",
       "    <tr>\n",
       "      <th>0</th>\n",
       "      <td>58</td>\n",
       "      <td>married</td>\n",
       "      <td>no</td>\n",
       "      <td>yes</td>\n",
       "      <td>no</td>\n",
       "      <td>telephone</td>\n",
       "      <td>may</td>\n",
       "      <td>mon</td>\n",
       "      <td>350</td>\n",
       "      <td>2</td>\n",
       "      <td>0</td>\n",
       "      <td>nonexistent</td>\n",
       "      <td>1.1</td>\n",
       "      <td>93.994</td>\n",
       "      <td>-36.4</td>\n",
       "      <td>4.857</td>\n",
       "      <td>5191.0</td>\n",
       "    </tr>\n",
       "    <tr>\n",
       "      <th>1</th>\n",
       "      <td>40</td>\n",
       "      <td>divorced</td>\n",
       "      <td>unknown</td>\n",
       "      <td>no</td>\n",
       "      <td>no</td>\n",
       "      <td>telephone</td>\n",
       "      <td>may</td>\n",
       "      <td>tue</td>\n",
       "      <td>88</td>\n",
       "      <td>3</td>\n",
       "      <td>0</td>\n",
       "      <td>nonexistent</td>\n",
       "      <td>1.1</td>\n",
       "      <td>93.994</td>\n",
       "      <td>-36.4</td>\n",
       "      <td>4.857</td>\n",
       "      <td>5191.0</td>\n",
       "    </tr>\n",
       "    <tr>\n",
       "      <th>2</th>\n",
       "      <td>57</td>\n",
       "      <td>married</td>\n",
       "      <td>no</td>\n",
       "      <td>yes</td>\n",
       "      <td>no</td>\n",
       "      <td>telephone</td>\n",
       "      <td>may</td>\n",
       "      <td>tue</td>\n",
       "      <td>379</td>\n",
       "      <td>2</td>\n",
       "      <td>0</td>\n",
       "      <td>nonexistent</td>\n",
       "      <td>1.1</td>\n",
       "      <td>93.994</td>\n",
       "      <td>-36.4</td>\n",
       "      <td>4.857</td>\n",
       "      <td>5191.0</td>\n",
       "    </tr>\n",
       "    <tr>\n",
       "      <th>3</th>\n",
       "      <td>45</td>\n",
       "      <td>married</td>\n",
       "      <td>no</td>\n",
       "      <td>yes</td>\n",
       "      <td>no</td>\n",
       "      <td>telephone</td>\n",
       "      <td>may</td>\n",
       "      <td>tue</td>\n",
       "      <td>168</td>\n",
       "      <td>3</td>\n",
       "      <td>0</td>\n",
       "      <td>nonexistent</td>\n",
       "      <td>1.1</td>\n",
       "      <td>93.994</td>\n",
       "      <td>-36.4</td>\n",
       "      <td>4.857</td>\n",
       "      <td>5191.0</td>\n",
       "    </tr>\n",
       "    <tr>\n",
       "      <th>4</th>\n",
       "      <td>42</td>\n",
       "      <td>married</td>\n",
       "      <td>unknown</td>\n",
       "      <td>yes</td>\n",
       "      <td>no</td>\n",
       "      <td>telephone</td>\n",
       "      <td>may</td>\n",
       "      <td>tue</td>\n",
       "      <td>190</td>\n",
       "      <td>3</td>\n",
       "      <td>0</td>\n",
       "      <td>nonexistent</td>\n",
       "      <td>1.1</td>\n",
       "      <td>93.994</td>\n",
       "      <td>-36.4</td>\n",
       "      <td>4.857</td>\n",
       "      <td>5191.0</td>\n",
       "    </tr>\n",
       "  </tbody>\n",
       "</table>\n",
       "</div>"
      ],
      "text/plain": [
       "   age   marital  default housing loan    contact month day_of_week  duration  \\\n",
       "0   58   married       no     yes   no  telephone   may         mon       350   \n",
       "1   40  divorced  unknown      no   no  telephone   may         tue        88   \n",
       "2   57   married       no     yes   no  telephone   may         tue       379   \n",
       "3   45   married       no     yes   no  telephone   may         tue       168   \n",
       "4   42   married  unknown     yes   no  telephone   may         tue       190   \n",
       "\n",
       "   campaign  previous     poutcome  emp.var.rate  cons.price.idx  \\\n",
       "0         2         0  nonexistent           1.1          93.994   \n",
       "1         3         0  nonexistent           1.1          93.994   \n",
       "2         2         0  nonexistent           1.1          93.994   \n",
       "3         3         0  nonexistent           1.1          93.994   \n",
       "4         3         0  nonexistent           1.1          93.994   \n",
       "\n",
       "   cons.conf.idx  euribor3m  nr.employed  \n",
       "0          -36.4      4.857       5191.0  \n",
       "1          -36.4      4.857       5191.0  \n",
       "2          -36.4      4.857       5191.0  \n",
       "3          -36.4      4.857       5191.0  \n",
       "4          -36.4      4.857       5191.0  "
      ]
     },
     "execution_count": 141,
     "metadata": {},
     "output_type": "execute_result"
    }
   ],
   "source": [
    "test_copy.head()"
   ]
  },
  {
   "cell_type": "code",
   "execution_count": 117,
   "metadata": {},
   "outputs": [
    {
     "data": {
      "text/html": [
       "<div>\n",
       "<style scoped>\n",
       "    .dataframe tbody tr th:only-of-type {\n",
       "        vertical-align: middle;\n",
       "    }\n",
       "\n",
       "    .dataframe tbody tr th {\n",
       "        vertical-align: top;\n",
       "    }\n",
       "\n",
       "    .dataframe thead th {\n",
       "        text-align: right;\n",
       "    }\n",
       "</style>\n",
       "<table border=\"1\" class=\"dataframe\">\n",
       "  <thead>\n",
       "    <tr style=\"text-align: right;\">\n",
       "      <th></th>\n",
       "      <th>age</th>\n",
       "      <th>marital</th>\n",
       "      <th>default</th>\n",
       "      <th>housing</th>\n",
       "      <th>loan</th>\n",
       "      <th>contact</th>\n",
       "      <th>month</th>\n",
       "      <th>day_of_week</th>\n",
       "      <th>duration</th>\n",
       "      <th>campaign</th>\n",
       "      <th>previous</th>\n",
       "      <th>poutcome</th>\n",
       "      <th>emp.var.rate</th>\n",
       "      <th>cons.price.idx</th>\n",
       "      <th>cons.conf.idx</th>\n",
       "      <th>euribor3m</th>\n",
       "      <th>nr.employed</th>\n",
       "    </tr>\n",
       "  </thead>\n",
       "  <tbody>\n",
       "    <tr>\n",
       "      <th>0</th>\n",
       "      <td>58</td>\n",
       "      <td>married</td>\n",
       "      <td>no</td>\n",
       "      <td>yes</td>\n",
       "      <td>no</td>\n",
       "      <td>telephone</td>\n",
       "      <td>may</td>\n",
       "      <td>mon</td>\n",
       "      <td>350</td>\n",
       "      <td>2</td>\n",
       "      <td>0</td>\n",
       "      <td>nonexistent</td>\n",
       "      <td>1.1</td>\n",
       "      <td>93.994</td>\n",
       "      <td>-36.4</td>\n",
       "      <td>4.857</td>\n",
       "      <td>5191.0</td>\n",
       "    </tr>\n",
       "    <tr>\n",
       "      <th>1</th>\n",
       "      <td>40</td>\n",
       "      <td>divorced</td>\n",
       "      <td>unknown</td>\n",
       "      <td>no</td>\n",
       "      <td>no</td>\n",
       "      <td>telephone</td>\n",
       "      <td>may</td>\n",
       "      <td>tue</td>\n",
       "      <td>88</td>\n",
       "      <td>3</td>\n",
       "      <td>0</td>\n",
       "      <td>nonexistent</td>\n",
       "      <td>1.1</td>\n",
       "      <td>93.994</td>\n",
       "      <td>-36.4</td>\n",
       "      <td>4.857</td>\n",
       "      <td>5191.0</td>\n",
       "    </tr>\n",
       "    <tr>\n",
       "      <th>2</th>\n",
       "      <td>57</td>\n",
       "      <td>married</td>\n",
       "      <td>no</td>\n",
       "      <td>yes</td>\n",
       "      <td>no</td>\n",
       "      <td>telephone</td>\n",
       "      <td>may</td>\n",
       "      <td>tue</td>\n",
       "      <td>379</td>\n",
       "      <td>2</td>\n",
       "      <td>0</td>\n",
       "      <td>nonexistent</td>\n",
       "      <td>1.1</td>\n",
       "      <td>93.994</td>\n",
       "      <td>-36.4</td>\n",
       "      <td>4.857</td>\n",
       "      <td>5191.0</td>\n",
       "    </tr>\n",
       "    <tr>\n",
       "      <th>3</th>\n",
       "      <td>45</td>\n",
       "      <td>married</td>\n",
       "      <td>no</td>\n",
       "      <td>yes</td>\n",
       "      <td>no</td>\n",
       "      <td>telephone</td>\n",
       "      <td>may</td>\n",
       "      <td>tue</td>\n",
       "      <td>168</td>\n",
       "      <td>3</td>\n",
       "      <td>0</td>\n",
       "      <td>nonexistent</td>\n",
       "      <td>1.1</td>\n",
       "      <td>93.994</td>\n",
       "      <td>-36.4</td>\n",
       "      <td>4.857</td>\n",
       "      <td>5191.0</td>\n",
       "    </tr>\n",
       "    <tr>\n",
       "      <th>4</th>\n",
       "      <td>42</td>\n",
       "      <td>married</td>\n",
       "      <td>unknown</td>\n",
       "      <td>yes</td>\n",
       "      <td>no</td>\n",
       "      <td>telephone</td>\n",
       "      <td>may</td>\n",
       "      <td>tue</td>\n",
       "      <td>190</td>\n",
       "      <td>3</td>\n",
       "      <td>0</td>\n",
       "      <td>nonexistent</td>\n",
       "      <td>1.1</td>\n",
       "      <td>93.994</td>\n",
       "      <td>-36.4</td>\n",
       "      <td>4.857</td>\n",
       "      <td>5191.0</td>\n",
       "    </tr>\n",
       "  </tbody>\n",
       "</table>\n",
       "</div>"
      ],
      "text/plain": [
       "   age   marital  default housing loan    contact month day_of_week  duration  \\\n",
       "0   58   married       no     yes   no  telephone   may         mon       350   \n",
       "1   40  divorced  unknown      no   no  telephone   may         tue        88   \n",
       "2   57   married       no     yes   no  telephone   may         tue       379   \n",
       "3   45   married       no     yes   no  telephone   may         tue       168   \n",
       "4   42   married  unknown     yes   no  telephone   may         tue       190   \n",
       "\n",
       "   campaign  previous     poutcome  emp.var.rate  cons.price.idx  \\\n",
       "0         2         0  nonexistent           1.1          93.994   \n",
       "1         3         0  nonexistent           1.1          93.994   \n",
       "2         2         0  nonexistent           1.1          93.994   \n",
       "3         3         0  nonexistent           1.1          93.994   \n",
       "4         3         0  nonexistent           1.1          93.994   \n",
       "\n",
       "   cons.conf.idx  euribor3m  nr.employed  \n",
       "0          -36.4      4.857       5191.0  \n",
       "1          -36.4      4.857       5191.0  \n",
       "2          -36.4      4.857       5191.0  \n",
       "3          -36.4      4.857       5191.0  \n",
       "4          -36.4      4.857       5191.0  "
      ]
     },
     "execution_count": 117,
     "metadata": {},
     "output_type": "execute_result"
    }
   ],
   "source": [
    "test_copy.head()"
   ]
  },
  {
   "cell_type": "code",
   "execution_count": 118,
   "metadata": {},
   "outputs": [
    {
     "data": {
      "image/png": "[encoded data removed]",
      "text/plain": [
       "<Figure size 432x288 with 1 Axes>"
      ]
     },
     "metadata": {},
     "output_type": "display_data"
    }
   ],
   "source": [
    "train_copy['y'].value_counts().plot.pie(explode=[0,0.1],autopct='%1.1f%%')\n",
    "plt.title('Subsciber')\n",
    "plt.show()"
   ]
  },
  {
   "cell_type": "code",
   "execution_count": 119,
   "metadata": {},
   "outputs": [
    {
     "data": {
      "image/png": "[encoded data removed]",
      "text/plain": [
       "<Figure size 432x288 with 1 Axes>"
      ]
     },
     "metadata": {},
     "output_type": "display_data"
    }
   ],
   "source": [
    "train_copy['poutcome'].value_counts().plot.pie(autopct='%1.1f%%')\n",
    "plt.title('Outcome')\n",
    "plt.show()"
   ]
  },
  {
   "cell_type": "code",
   "execution_count": 59,
   "metadata": {},
   "outputs": [
    {
     "data": {
      "image/png": "[encoded data removed]",
      "text/plain": [
       "<Figure size 1296x576 with 2 Axes>"
      ]
     },
     "metadata": {
      "needs_background": "light"
     },
     "output_type": "display_data"
    }
   ],
   "source": [
    "f,ax=plt.subplots(1,2,figsize=(18,8))\n",
    "sns.countplot('month', hue='y', data=train_copy, ax=ax[0])\n",
    "ax[0].set_title(\"Month Subscribe\")\n",
    "sns.countplot('marital', hue='y', data=train_copy, ax=ax[1])\n",
    "ax[1].set_title('Marital Subsribe')\n",
    "plt.show()"
   ]
  },
  {
   "cell_type": "code",
   "execution_count": 30,
   "metadata": {},
   "outputs": [
    {
     "data": {
      "text/html": [
       "<style  type=\"text/css\" >\n",
       "    #T_2e0ddfc0_b502_11e8_8a03_54271ec830edrow0_col0 {\n",
       "            background-color:  #e3f166;\n",
       "        }    #T_2e0ddfc0_b502_11e8_8a03_54271ec830edrow0_col1 {\n",
       "            background-color:  #e6f266;\n",
       "        }    #T_2e0ddfc0_b502_11e8_8a03_54271ec830edrow0_col2 {\n",
       "            background-color:  #e3f166;\n",
       "        }    #T_2e0ddfc0_b502_11e8_8a03_54271ec830edrow1_col0 {\n",
       "            background-color:  #68b366;\n",
       "        }    #T_2e0ddfc0_b502_11e8_8a03_54271ec830edrow1_col1 {\n",
       "            background-color:  #75ba66;\n",
       "        }    #T_2e0ddfc0_b502_11e8_8a03_54271ec830edrow1_col2 {\n",
       "            background-color:  #6ab466;\n",
       "        }    #T_2e0ddfc0_b502_11e8_8a03_54271ec830edrow2_col0 {\n",
       "            background-color:  #b5da66;\n",
       "        }    #T_2e0ddfc0_b502_11e8_8a03_54271ec830edrow2_col1 {\n",
       "            background-color:  #a5d266;\n",
       "        }    #T_2e0ddfc0_b502_11e8_8a03_54271ec830edrow2_col2 {\n",
       "            background-color:  #b3d966;\n",
       "        }    #T_2e0ddfc0_b502_11e8_8a03_54271ec830edrow3_col0 {\n",
       "            background-color:  #ffff66;\n",
       "        }    #T_2e0ddfc0_b502_11e8_8a03_54271ec830edrow3_col1 {\n",
       "            background-color:  #ffff66;\n",
       "        }    #T_2e0ddfc0_b502_11e8_8a03_54271ec830edrow3_col2 {\n",
       "            background-color:  #ffff66;\n",
       "        }    #T_2e0ddfc0_b502_11e8_8a03_54271ec830edrow4_col0 {\n",
       "            background-color:  #008066;\n",
       "        }    #T_2e0ddfc0_b502_11e8_8a03_54271ec830edrow4_col1 {\n",
       "            background-color:  #008066;\n",
       "        }    #T_2e0ddfc0_b502_11e8_8a03_54271ec830edrow4_col2 {\n",
       "            background-color:  #008066;\n",
       "        }</style>  \n",
       "<table id=\"T_2e0ddfc0_b502_11e8_8a03_54271ec830ed\" > \n",
       "<thead>    <tr> \n",
       "        <th class=\"index_name level0\" >y</th> \n",
       "        <th class=\"col_heading level0 col0\" >no</th> \n",
       "        <th class=\"col_heading level0 col1\" >yes</th> \n",
       "        <th class=\"col_heading level0 col2\" >All</th> \n",
       "    </tr>    <tr> \n",
       "        <th class=\"index_name level0\" >marital</th> \n",
       "        <th class=\"blank\" ></th> \n",
       "        <th class=\"blank\" ></th> \n",
       "        <th class=\"blank\" ></th> \n",
       "    </tr></thead> \n",
       "<tbody>    <tr> \n",
       "        <th id=\"T_2e0ddfc0_b502_11e8_8a03_54271ec830edlevel0_row0\" class=\"row_heading level0 row0\" >divorced</th> \n",
       "        <td id=\"T_2e0ddfc0_b502_11e8_8a03_54271ec830edrow0_col0\" class=\"data row0 col0\" >3052</td> \n",
       "        <td id=\"T_2e0ddfc0_b502_11e8_8a03_54271ec830edrow0_col1\" class=\"data row0 col1\" >438</td> \n",
       "        <td id=\"T_2e0ddfc0_b502_11e8_8a03_54271ec830edrow0_col2\" class=\"data row0 col2\" >3490</td> \n",
       "    </tr>    <tr> \n",
       "        <th id=\"T_2e0ddfc0_b502_11e8_8a03_54271ec830edlevel0_row1\" class=\"row_heading level0 row1\" >married</th> \n",
       "        <td id=\"T_2e0ddfc0_b502_11e8_8a03_54271ec830edrow1_col0\" class=\"data row1 col0\" >15884</td> \n",
       "        <td id=\"T_2e0ddfc0_b502_11e8_8a03_54271ec830edrow1_col1\" class=\"data row1 col1\" >2320</td> \n",
       "        <td id=\"T_2e0ddfc0_b502_11e8_8a03_54271ec830edrow1_col2\" class=\"data row1 col2\" >18204</td> \n",
       "    </tr>    <tr> \n",
       "        <th id=\"T_2e0ddfc0_b502_11e8_8a03_54271ec830edlevel0_row2\" class=\"row_heading level0 row2\" >single</th> \n",
       "        <td id=\"T_2e0ddfc0_b502_11e8_8a03_54271ec830edrow2_col0\" class=\"data row2 col0\" >7880</td> \n",
       "        <td id=\"T_2e0ddfc0_b502_11e8_8a03_54271ec830edrow2_col1\" class=\"data row2 col1\" >1522</td> \n",
       "        <td id=\"T_2e0ddfc0_b502_11e8_8a03_54271ec830edrow2_col2\" class=\"data row2 col2\" >9402</td> \n",
       "    </tr>    <tr> \n",
       "        <th id=\"T_2e0ddfc0_b502_11e8_8a03_54271ec830edlevel0_row3\" class=\"row_heading level0 row3\" >unknown</th> \n",
       "        <td id=\"T_2e0ddfc0_b502_11e8_8a03_54271ec830edrow3_col0\" class=\"data row3 col0\" >53</td> \n",
       "        <td id=\"T_2e0ddfc0_b502_11e8_8a03_54271ec830edrow3_col1\" class=\"data row3 col1\" >11</td> \n",
       "        <td id=\"T_2e0ddfc0_b502_11e8_8a03_54271ec830edrow3_col2\" class=\"data row3 col2\" >64</td> \n",
       "    </tr>    <tr> \n",
       "        <th id=\"T_2e0ddfc0_b502_11e8_8a03_54271ec830edlevel0_row4\" class=\"row_heading level0 row4\" >All</th> \n",
       "        <td id=\"T_2e0ddfc0_b502_11e8_8a03_54271ec830edrow4_col0\" class=\"data row4 col0\" >26869</td> \n",
       "        <td id=\"T_2e0ddfc0_b502_11e8_8a03_54271ec830edrow4_col1\" class=\"data row4 col1\" >4291</td> \n",
       "        <td id=\"T_2e0ddfc0_b502_11e8_8a03_54271ec830edrow4_col2\" class=\"data row4 col2\" >31160</td> \n",
       "    </tr></tbody> \n",
       "</table> "
      ],
      "text/plain": [
       "<pandas.io.formats.style.Styler at 0x7f07032d1710>"
      ]
     },
     "execution_count": 30,
     "metadata": {},
     "output_type": "execute_result"
    }
   ],
   "source": [
    "pd.crosstab(train_copy.marital, train_copy.y, margins=True).style.background_gradient(cmap='summer_r')"
   ]
  },
  {
   "cell_type": "code",
   "execution_count": null,
   "metadata": {},
   "outputs": [],
   "source": []
  },
  {
   "cell_type": "code",
   "execution_count": 13,
   "metadata": {},
   "outputs": [
    {
     "name": "stderr",
     "output_type": "stream",
     "text": [
      "/home/fairuz/.local/lib/python2.7/site-packages/scipy/stats/stats.py:1713: FutureWarning: Using a non-tuple sequence for multidimensional indexing is deprecated; use `arr[tuple(seq)]` instead of `arr[seq]`. In the future this will be interpreted as an array index, `arr[np.array(seq)]`, which will result either in an error or a different result.\n",
      "  return np.add.reduce(sorted[indexer] * weights, axis=axis) / sumval\n"
     ]
    },
    {
     "data": {
      "image/png": "[encoded data removed]",
      "text/plain": [
       "<Figure size 432x288 with 1 Axes>"
      ]
     },
     "metadata": {
      "needs_background": "light"
     },
     "output_type": "display_data"
    }
   ],
   "source": [
    "subscribe_ages = train_copy[train_copy.y == 'yes'][\"age\"]\n",
    "sns.distplot(subscribe_ages, kde=False)\n",
    "plt.title('Age distribution Subsribe')\n",
    "plt.ylabel('Proportion')\n",
    "plt.show()"
   ]
  },
  {
   "cell_type": "code",
   "execution_count": 32,
   "metadata": {},
   "outputs": [
    {
     "name": "stderr",
     "output_type": "stream",
     "text": [
      "/home/fairuz/.local/lib/python2.7/site-packages/scipy/stats/stats.py:1713: FutureWarning: Using a non-tuple sequence for multidimensional indexing is deprecated; use `arr[tuple(seq)]` instead of `arr[seq]`. In the future this will be interpreted as an array index, `arr[np.array(seq)]`, which will result either in an error or a different result.\n",
      "  return np.add.reduce(sorted[indexer] * weights, axis=axis) / sumval\n"
     ]
    },
    {
     "data": {
      "image/png": "[encoded data removed]",
      "text/plain": [
       "<Figure size 432x288 with 1 Axes>"
      ]
     },
     "metadata": {
      "needs_background": "light"
     },
     "output_type": "display_data"
    }
   ],
   "source": [
    "sns.violinplot('marital', 'age', hue='y', data=train_copy, split=True)\n",
    "plt.title('age vs marital portion')\n",
    "plt.show()"
   ]
  },
  {
   "cell_type": "code",
   "execution_count": 120,
   "metadata": {},
   "outputs": [],
   "source": [
    "train_copy['default'] = train_copy.default.map({'no':0, 'yes':1, 'unknown':2})\n",
    "train_copy['housing'] = train_copy.housing.map({'no':0, 'yes':1, 'unknown':2})\n",
    "train_copy['loan'] = train_copy.loan.map({'no':0, 'yes':1, 'unknown':2})\n",
    "train_copy['poutcome'] = train_copy.poutcome.map({'failure':0, 'nonexistent':1, 'success':2})\n",
    "train_copy['day_of_week'] = train_copy.day_of_week.map({'mon':0,'tue':1,'wed':2,'thu':3,'fri':4})\n",
    "train_copy['month'] = train_copy.month.map({'may':0, 'jun':1, 'jul':2, 'aug':3, 'oct':4, 'nov':5, 'dec':6, 'mar':7, 'apr':8,\n",
    "       'sep':9})\n",
    "train_copy['marital'] = train_copy.marital.map({'divorced':0, 'married':1, 'single':2,'unknown':3})\n",
    "train_copy['contact'] = train_copy.contact.map({'telephone':0, 'cellular':1})"
   ]
  },
  {
   "cell_type": "code",
   "execution_count": 142,
   "metadata": {},
   "outputs": [],
   "source": [
    "test_copy['default'] = test_copy.default.map({'no':0, 'yes':1, 'unknown':2})\n",
    "test_copy['housing'] = test_copy.housing.map({'no':0, 'yes':1, 'unknown':2})\n",
    "test_copy['loan'] = test_copy.loan.map({'no':0, 'yes':1, 'unknown':2})\n",
    "test_copy['poutcome'] = test_copy.poutcome.map({'failure':0, 'nonexistent':1, 'success':2})\n",
    "test_copy['day_of_week'] = test_copy.day_of_week.map({'mon':0,'tue':1,'wed':2,'thu':3,'fri':4})\n",
    "test_copy['month'] = test_copy.month.map({'may':0, 'jun':1, 'jul':2, 'aug':3, 'oct':4, 'nov':5, 'dec':6, 'mar':7, 'apr':8,\n",
    "       'sep':9})\n",
    "test_copy['marital'] = test_copy.marital.map({'divorced':0, 'married':1, 'single':2,'unknown':3})\n",
    "test_copy['contact'] = test_copy.contact.map({'telephone':0, 'cellular':1})"
   ]
  },
  {
   "cell_type": "code",
   "execution_count": 122,
   "metadata": {},
   "outputs": [
    {
     "data": {
      "text/html": [
       "<div>\n",
       "<style scoped>\n",
       "    .dataframe tbody tr th:only-of-type {\n",
       "        vertical-align: middle;\n",
       "    }\n",
       "\n",
       "    .dataframe tbody tr th {\n",
       "        vertical-align: top;\n",
       "    }\n",
       "\n",
       "    .dataframe thead th {\n",
       "        text-align: right;\n",
       "    }\n",
       "</style>\n",
       "<table border=\"1\" class=\"dataframe\">\n",
       "  <thead>\n",
       "    <tr style=\"text-align: right;\">\n",
       "      <th></th>\n",
       "      <th>age</th>\n",
       "      <th>marital</th>\n",
       "      <th>default</th>\n",
       "      <th>housing</th>\n",
       "      <th>loan</th>\n",
       "      <th>contact</th>\n",
       "      <th>month</th>\n",
       "      <th>day_of_week</th>\n",
       "      <th>duration</th>\n",
       "      <th>campaign</th>\n",
       "      <th>previous</th>\n",
       "      <th>poutcome</th>\n",
       "      <th>emp.var.rate</th>\n",
       "      <th>cons.price.idx</th>\n",
       "      <th>cons.conf.idx</th>\n",
       "      <th>euribor3m</th>\n",
       "      <th>nr.employed</th>\n",
       "      <th>y</th>\n",
       "    </tr>\n",
       "  </thead>\n",
       "  <tbody>\n",
       "    <tr>\n",
       "      <th>0</th>\n",
       "      <td>56</td>\n",
       "      <td>1</td>\n",
       "      <td>0</td>\n",
       "      <td>0</td>\n",
       "      <td>0</td>\n",
       "      <td>0</td>\n",
       "      <td>0</td>\n",
       "      <td>0</td>\n",
       "      <td>261</td>\n",
       "      <td>1</td>\n",
       "      <td>0</td>\n",
       "      <td>1</td>\n",
       "      <td>1.1</td>\n",
       "      <td>93.994</td>\n",
       "      <td>-36.4</td>\n",
       "      <td>4.857</td>\n",
       "      <td>5191.0</td>\n",
       "      <td>no</td>\n",
       "    </tr>\n",
       "    <tr>\n",
       "      <th>1</th>\n",
       "      <td>57</td>\n",
       "      <td>1</td>\n",
       "      <td>2</td>\n",
       "      <td>0</td>\n",
       "      <td>0</td>\n",
       "      <td>0</td>\n",
       "      <td>0</td>\n",
       "      <td>0</td>\n",
       "      <td>149</td>\n",
       "      <td>1</td>\n",
       "      <td>0</td>\n",
       "      <td>1</td>\n",
       "      <td>1.1</td>\n",
       "      <td>93.994</td>\n",
       "      <td>-36.4</td>\n",
       "      <td>4.857</td>\n",
       "      <td>5191.0</td>\n",
       "      <td>no</td>\n",
       "    </tr>\n",
       "    <tr>\n",
       "      <th>2</th>\n",
       "      <td>37</td>\n",
       "      <td>1</td>\n",
       "      <td>0</td>\n",
       "      <td>1</td>\n",
       "      <td>0</td>\n",
       "      <td>0</td>\n",
       "      <td>0</td>\n",
       "      <td>0</td>\n",
       "      <td>226</td>\n",
       "      <td>1</td>\n",
       "      <td>0</td>\n",
       "      <td>1</td>\n",
       "      <td>1.1</td>\n",
       "      <td>93.994</td>\n",
       "      <td>-36.4</td>\n",
       "      <td>4.857</td>\n",
       "      <td>5191.0</td>\n",
       "      <td>no</td>\n",
       "    </tr>\n",
       "    <tr>\n",
       "      <th>3</th>\n",
       "      <td>40</td>\n",
       "      <td>1</td>\n",
       "      <td>0</td>\n",
       "      <td>0</td>\n",
       "      <td>0</td>\n",
       "      <td>0</td>\n",
       "      <td>0</td>\n",
       "      <td>0</td>\n",
       "      <td>151</td>\n",
       "      <td>1</td>\n",
       "      <td>0</td>\n",
       "      <td>1</td>\n",
       "      <td>1.1</td>\n",
       "      <td>93.994</td>\n",
       "      <td>-36.4</td>\n",
       "      <td>4.857</td>\n",
       "      <td>5191.0</td>\n",
       "      <td>no</td>\n",
       "    </tr>\n",
       "    <tr>\n",
       "      <th>4</th>\n",
       "      <td>56</td>\n",
       "      <td>1</td>\n",
       "      <td>0</td>\n",
       "      <td>0</td>\n",
       "      <td>1</td>\n",
       "      <td>0</td>\n",
       "      <td>0</td>\n",
       "      <td>0</td>\n",
       "      <td>307</td>\n",
       "      <td>1</td>\n",
       "      <td>0</td>\n",
       "      <td>1</td>\n",
       "      <td>1.1</td>\n",
       "      <td>93.994</td>\n",
       "      <td>-36.4</td>\n",
       "      <td>4.857</td>\n",
       "      <td>5191.0</td>\n",
       "      <td>no</td>\n",
       "    </tr>\n",
       "  </tbody>\n",
       "</table>\n",
       "</div>"
      ],
      "text/plain": [
       "   age  marital  default  housing  loan  contact  month  day_of_week  \\\n",
       "0   56        1        0        0     0        0      0            0   \n",
       "1   57        1        2        0     0        0      0            0   \n",
       "2   37        1        0        1     0        0      0            0   \n",
       "3   40        1        0        0     0        0      0            0   \n",
       "4   56        1        0        0     1        0      0            0   \n",
       "\n",
       "   duration  campaign  previous  poutcome  emp.var.rate  cons.price.idx  \\\n",
       "0       261         1         0         1           1.1          93.994   \n",
       "1       149         1         0         1           1.1          93.994   \n",
       "2       226         1         0         1           1.1          93.994   \n",
       "3       151         1         0         1           1.1          93.994   \n",
       "4       307         1         0         1           1.1          93.994   \n",
       "\n",
       "   cons.conf.idx  euribor3m  nr.employed   y  \n",
       "0          -36.4      4.857       5191.0  no  \n",
       "1          -36.4      4.857       5191.0  no  \n",
       "2          -36.4      4.857       5191.0  no  \n",
       "3          -36.4      4.857       5191.0  no  \n",
       "4          -36.4      4.857       5191.0  no  "
      ]
     },
     "execution_count": 122,
     "metadata": {},
     "output_type": "execute_result"
    }
   ],
   "source": [
    "train_copy.head()"
   ]
  },
  {
   "cell_type": "code",
   "execution_count": 143,
   "metadata": {},
   "outputs": [
    {
     "data": {
      "text/html": [
       "<div>\n",
       "<style scoped>\n",
       "    .dataframe tbody tr th:only-of-type {\n",
       "        vertical-align: middle;\n",
       "    }\n",
       "\n",
       "    .dataframe tbody tr th {\n",
       "        vertical-align: top;\n",
       "    }\n",
       "\n",
       "    .dataframe thead th {\n",
       "        text-align: right;\n",
       "    }\n",
       "</style>\n",
       "<table border=\"1\" class=\"dataframe\">\n",
       "  <thead>\n",
       "    <tr style=\"text-align: right;\">\n",
       "      <th></th>\n",
       "      <th>age</th>\n",
       "      <th>marital</th>\n",
       "      <th>default</th>\n",
       "      <th>housing</th>\n",
       "      <th>loan</th>\n",
       "      <th>contact</th>\n",
       "      <th>month</th>\n",
       "      <th>day_of_week</th>\n",
       "      <th>duration</th>\n",
       "      <th>campaign</th>\n",
       "      <th>previous</th>\n",
       "      <th>poutcome</th>\n",
       "      <th>emp.var.rate</th>\n",
       "      <th>cons.price.idx</th>\n",
       "      <th>cons.conf.idx</th>\n",
       "      <th>euribor3m</th>\n",
       "      <th>nr.employed</th>\n",
       "    </tr>\n",
       "  </thead>\n",
       "  <tbody>\n",
       "    <tr>\n",
       "      <th>0</th>\n",
       "      <td>58</td>\n",
       "      <td>1</td>\n",
       "      <td>0</td>\n",
       "      <td>1</td>\n",
       "      <td>0</td>\n",
       "      <td>0</td>\n",
       "      <td>0</td>\n",
       "      <td>0</td>\n",
       "      <td>350</td>\n",
       "      <td>2</td>\n",
       "      <td>0</td>\n",
       "      <td>1</td>\n",
       "      <td>1.1</td>\n",
       "      <td>93.994</td>\n",
       "      <td>-36.4</td>\n",
       "      <td>4.857</td>\n",
       "      <td>5191.0</td>\n",
       "    </tr>\n",
       "    <tr>\n",
       "      <th>1</th>\n",
       "      <td>40</td>\n",
       "      <td>0</td>\n",
       "      <td>2</td>\n",
       "      <td>0</td>\n",
       "      <td>0</td>\n",
       "      <td>0</td>\n",
       "      <td>0</td>\n",
       "      <td>1</td>\n",
       "      <td>88</td>\n",
       "      <td>3</td>\n",
       "      <td>0</td>\n",
       "      <td>1</td>\n",
       "      <td>1.1</td>\n",
       "      <td>93.994</td>\n",
       "      <td>-36.4</td>\n",
       "      <td>4.857</td>\n",
       "      <td>5191.0</td>\n",
       "    </tr>\n",
       "    <tr>\n",
       "      <th>2</th>\n",
       "      <td>57</td>\n",
       "      <td>1</td>\n",
       "      <td>0</td>\n",
       "      <td>1</td>\n",
       "      <td>0</td>\n",
       "      <td>0</td>\n",
       "      <td>0</td>\n",
       "      <td>1</td>\n",
       "      <td>379</td>\n",
       "      <td>2</td>\n",
       "      <td>0</td>\n",
       "      <td>1</td>\n",
       "      <td>1.1</td>\n",
       "      <td>93.994</td>\n",
       "      <td>-36.4</td>\n",
       "      <td>4.857</td>\n",
       "      <td>5191.0</td>\n",
       "    </tr>\n",
       "    <tr>\n",
       "      <th>3</th>\n",
       "      <td>45</td>\n",
       "      <td>1</td>\n",
       "      <td>0</td>\n",
       "      <td>1</td>\n",
       "      <td>0</td>\n",
       "      <td>0</td>\n",
       "      <td>0</td>\n",
       "      <td>1</td>\n",
       "      <td>168</td>\n",
       "      <td>3</td>\n",
       "      <td>0</td>\n",
       "      <td>1</td>\n",
       "      <td>1.1</td>\n",
       "      <td>93.994</td>\n",
       "      <td>-36.4</td>\n",
       "      <td>4.857</td>\n",
       "      <td>5191.0</td>\n",
       "    </tr>\n",
       "    <tr>\n",
       "      <th>4</th>\n",
       "      <td>42</td>\n",
       "      <td>1</td>\n",
       "      <td>2</td>\n",
       "      <td>1</td>\n",
       "      <td>0</td>\n",
       "      <td>0</td>\n",
       "      <td>0</td>\n",
       "      <td>1</td>\n",
       "      <td>190</td>\n",
       "      <td>3</td>\n",
       "      <td>0</td>\n",
       "      <td>1</td>\n",
       "      <td>1.1</td>\n",
       "      <td>93.994</td>\n",
       "      <td>-36.4</td>\n",
       "      <td>4.857</td>\n",
       "      <td>5191.0</td>\n",
       "    </tr>\n",
       "  </tbody>\n",
       "</table>\n",
       "</div>"
      ],
      "text/plain": [
       "   age  marital  default  housing  loan  contact  month  day_of_week  \\\n",
       "0   58        1        0        1     0        0      0            0   \n",
       "1   40        0        2        0     0        0      0            1   \n",
       "2   57        1        0        1     0        0      0            1   \n",
       "3   45        1        0        1     0        0      0            1   \n",
       "4   42        1        2        1     0        0      0            1   \n",
       "\n",
       "   duration  campaign  previous  poutcome  emp.var.rate  cons.price.idx  \\\n",
       "0       350         2         0         1           1.1          93.994   \n",
       "1        88         3         0         1           1.1          93.994   \n",
       "2       379         2         0         1           1.1          93.994   \n",
       "3       168         3         0         1           1.1          93.994   \n",
       "4       190         3         0         1           1.1          93.994   \n",
       "\n",
       "   cons.conf.idx  euribor3m  nr.employed  \n",
       "0          -36.4      4.857       5191.0  \n",
       "1          -36.4      4.857       5191.0  \n",
       "2          -36.4      4.857       5191.0  \n",
       "3          -36.4      4.857       5191.0  \n",
       "4          -36.4      4.857       5191.0  "
      ]
     },
     "execution_count": 143,
     "metadata": {},
     "output_type": "execute_result"
    }
   ],
   "source": [
    "test_copy.head()"
   ]
  },
  {
   "cell_type": "code",
   "execution_count": 124,
   "metadata": {},
   "outputs": [
    {
     "data": {
      "image/png": "[encoded data removed]",
      "text/plain": [
       "<Figure size 1440x864 with 2 Axes>"
      ]
     },
     "metadata": {
      "needs_background": "light"
     },
     "output_type": "display_data"
    }
   ],
   "source": [
    "sns.heatmap(train_copy.corr(),annot=True,cmap='RdYlGn',linewidths=0.2) #data.corr()-->correlation matrix\n",
    "fig=plt.gcf()\n",
    "fig.set_size_inches(20,12)\n",
    "plt.show()"
   ]
  },
  {
   "cell_type": "code",
   "execution_count": 38,
   "metadata": {},
   "outputs": [
    {
     "data": {
      "image/png": "[encoded data removed]",
      "text/plain": [
       "<Figure size 432x288 with 1 Axes>"
      ]
     },
     "metadata": {
      "needs_background": "light"
     },
     "output_type": "display_data"
    }
   ],
   "source": [
    "train_copy.plot(kind='scatter', x='loan', y='housing')\n",
    "plt.show()"
   ]
  },
  {
   "cell_type": "code",
   "execution_count": 125,
   "metadata": {},
   "outputs": [
    {
     "data": {
      "text/plain": [
       "((21812, 17), (9348, 17), (21812,), (9348,))"
      ]
     },
     "execution_count": 125,
     "metadata": {},
     "output_type": "execute_result"
    }
   ],
   "source": [
    "from sklearn.model_selection import train_test_split #for split the data\n",
    "from sklearn.metrics import accuracy_score  #for accuracy_score\n",
    "from sklearn.model_selection import KFold #for K-fold cross validation\n",
    "from sklearn.model_selection import cross_val_score #score evaluation\n",
    "from sklearn.model_selection import cross_val_predict #prediction\n",
    "from sklearn.metrics import confusion_matrix #for confusion matrix\n",
    "Targeted_feature = train_copy['y'].values\n",
    "all_features = train_copy.drop('y', axis=1).values\n",
    "\n",
    "# Split into training and test set\n",
    "X_train,X_test,y_train,y_test = train_test_split(all_features,Targeted_feature,test_size=0.3,random_state=42)\n",
    "X_train.shape,X_test.shape,y_train.shape,y_test.shape"
   ]
  },
  {
   "cell_type": "code",
   "execution_count": 135,
   "metadata": {},
   "outputs": [
    {
     "name": "stdout",
     "output_type": "stream",
     "text": [
      "--------------The Accuracy of the model----------------------------\n",
      "('The accuracy of the Logistic Regression is', 89.25)\n",
      "('The cross validated score for Logistic REgression is:', 79.63)\n"
     ]
    },
    {
     "data": {
      "text/plain": [
       "Text(0.5,1.05,'Confusion_matrix')"
      ]
     },
     "execution_count": 135,
     "metadata": {},
     "output_type": "execute_result"
    },
    {
     "data": {
      "image/png": "[encoded data removed]",
      "text/plain": [
       "<Figure size 432x288 with 2 Axes>"
      ]
     },
     "metadata": {
      "needs_background": "light"
     },
     "output_type": "display_data"
    }
   ],
   "source": [
    "from sklearn.linear_model import LogisticRegression # Logistic Regression\n",
    "\n",
    "lr_model = LogisticRegression()\n",
    "lr_model.fit(X_train,y_train)\n",
    "prediction_lr=lr_model.predict(X_test)\n",
    "print('--------------The Accuracy of the model----------------------------')\n",
    "print('The accuracy of the Logistic Regression is',round(accuracy_score(prediction_lr,y_test)*100,2))\n",
    "kfold = KFold(n_splits=10, random_state=22) # k=10, split the data into 10 equal parts\n",
    "result_lr=cross_val_score(lr_model,all_features,Targeted_feature,cv=10,scoring='accuracy')\n",
    "print('The cross validated score for Logistic REgression is:',round(result_lr.mean()*100,2))\n",
    "y_pred = cross_val_predict(lr_model,all_features,Targeted_feature,cv=10)\n",
    "sns.heatmap(confusion_matrix(Targeted_feature,y_pred),annot=True,fmt='3.0f',cmap=\"summer\")\n",
    "plt.title('Confusion_matrix', y=1.05, size=15)"
   ]
  },
  {
   "cell_type": "code",
   "execution_count": 149,
   "metadata": {},
   "outputs": [
    {
     "ename": "AttributeError",
     "evalue": "'LogisticRegression' object has no attribute 'feature_importances_'",
     "output_type": "error",
     "traceback": [
      "\u001b[0;31m---------------------------------------------------------------------------\u001b[0m",
      "\u001b[0;31mAttributeError\u001b[0m                            Traceback (most recent call last)",
      "\u001b[0;32m<ipython-input-149-36ae2f35d3b2>\u001b[0m in \u001b[0;36m<module>\u001b[0;34m()\u001b[0m\n\u001b[1;32m      1\u001b[0m \u001b[0mmodel\u001b[0m \u001b[0;34m=\u001b[0m \u001b[0mLogisticRegression\u001b[0m\u001b[0;34m(\u001b[0m\u001b[0;34m)\u001b[0m\u001b[0;34m\u001b[0m\u001b[0m\n\u001b[1;32m      2\u001b[0m \u001b[0mmodel\u001b[0m\u001b[0;34m.\u001b[0m\u001b[0mfit\u001b[0m\u001b[0;34m(\u001b[0m\u001b[0mall_features\u001b[0m\u001b[0;34m,\u001b[0m\u001b[0mTargeted_feature\u001b[0m\u001b[0;34m)\u001b[0m\u001b[0;34m\u001b[0m\u001b[0m\n\u001b[0;32m----> 3\u001b[0;31m \u001b[0mpd\u001b[0m\u001b[0;34m.\u001b[0m\u001b[0mSeries\u001b[0m\u001b[0;34m(\u001b[0m\u001b[0mmodel\u001b[0m\u001b[0;34m.\u001b[0m\u001b[0mfeature_importances_\u001b[0m\u001b[0;34m,\u001b[0m\u001b[0mall_features\u001b[0m\u001b[0;34m.\u001b[0m\u001b[0mcolumns\u001b[0m\u001b[0;34m)\u001b[0m\u001b[0;34m.\u001b[0m\u001b[0msort_values\u001b[0m\u001b[0;34m(\u001b[0m\u001b[0mascending\u001b[0m\u001b[0;34m=\u001b[0m\u001b[0mTrue\u001b[0m\u001b[0;34m)\u001b[0m\u001b[0;34m.\u001b[0m\u001b[0mplot\u001b[0m\u001b[0;34m.\u001b[0m\u001b[0mbarh\u001b[0m\u001b[0;34m(\u001b[0m\u001b[0mwidth\u001b[0m\u001b[0;34m=\u001b[0m\u001b[0;36m0.8\u001b[0m\u001b[0;34m)\u001b[0m\u001b[0;34m\u001b[0m\u001b[0m\n\u001b[0m\u001b[1;32m      4\u001b[0m \u001b[0mplt\u001b[0m\u001b[0;34m.\u001b[0m\u001b[0mtitle\u001b[0m\u001b[0;34m(\u001b[0m\u001b[0;34m'Feature Importance in SVM'\u001b[0m\u001b[0;34m)\u001b[0m\u001b[0;34m\u001b[0m\u001b[0m\n\u001b[1;32m      5\u001b[0m \u001b[0mplt\u001b[0m\u001b[0;34m.\u001b[0m\u001b[0mshow\u001b[0m\u001b[0;34m(\u001b[0m\u001b[0;34m)\u001b[0m\u001b[0;34m\u001b[0m\u001b[0m\n",
      "\u001b[0;31mAttributeError\u001b[0m: 'LogisticRegression' object has no attribute 'feature_importances_'"
     ]
    }
   ],
   "source": [
    "def f_importances(coef, names):\n",
    "    imp = coef\n",
    "    imp,names = zip(*sorted(zip(imp,names)))\n",
    "    plt.barh(range(len(names)), imp, align='center')\n",
    "    plt.yticks(range(len(names)), names)\n",
    "    plt.show()\n",
    "    \n",
    "lr_model = LogisticRegression()\n",
    "lr_model.fit(X_train,y_train)"
   ]
  },
  {
   "cell_type": "code",
   "execution_count": 136,
   "metadata": {
    "scrolled": true
   },
   "outputs": [
    {
     "name": "stdout",
     "output_type": "stream",
     "text": [
      "--------------The Accuracy of the model----------------------------\n",
      "('The accuracy of the Support Vector Machines Classifier is', 86.21)\n",
      "('The cross validated score for Support Vector Machines Classifier is:', 81.68)\n"
     ]
    },
    {
     "data": {
      "text/plain": [
       "Text(0.5,1.05,'Confusion_matrix')"
      ]
     },
     "execution_count": 136,
     "metadata": {},
     "output_type": "execute_result"
    },
    {
     "data": {
      "image/png": "[encoded data removed]",
      "text/plain": [
       "<Figure size 432x288 with 2 Axes>"
      ]
     },
     "metadata": {
      "needs_background": "light"
     },
     "output_type": "display_data"
    }
   ],
   "source": [
    "# Support Vector Machines\n",
    "from sklearn.svm import SVC, LinearSVC\n",
    "\n",
    "svc_model = SVC()\n",
    "svc_model.fit(X_train,y_train)\n",
    "prediction_svm=svc_model.predict(X_test)\n",
    "print('--------------The Accuracy of the model----------------------------')\n",
    "print('The accuracy of the Support Vector Machines Classifier is',round(accuracy_score(prediction_svm,y_test)*100,2))\n",
    "kfold = KFold(n_splits=10, random_state=22) # k=10, split the data into 10 equal parts\n",
    "result_svm=cross_val_score(svc_model,all_features,Targeted_feature,cv=10,scoring='accuracy')\n",
    "print('The cross validated score for Support Vector Machines Classifier is:',round(result_svm.mean()*100,2))\n",
    "y_pred = cross_val_predict(svc_model,all_features,Targeted_feature,cv=10)\n",
    "sns.heatmap(confusion_matrix(Targeted_feature,y_pred),annot=True,fmt='3.0f',cmap=\"summer\")\n",
    "plt.title('Confusion_matrix', y=1.05, size=15)"
   ]
  },
  {
   "cell_type": "code",
   "execution_count": 138,
   "metadata": {},
   "outputs": [
    {
     "data": {
      "text/plain": [
       "SVC(C=1.0, cache_size=200, class_weight=None, coef0=0.0,\n",
       "  decision_function_shape='ovr', degree=3, gamma='auto', kernel='rbf',\n",
       "  max_iter=-1, probability=False, random_state=None, shrinking=True,\n",
       "  tol=0.001, verbose=False)"
      ]
     },
     "execution_count": 138,
     "metadata": {},
     "output_type": "execute_result"
    }
   ],
   "source": [
    "svc_model.fit(all_features, Targeted_feature)"
   ]
  },
  {
   "cell_type": "code",
   "execution_count": 144,
   "metadata": {},
   "outputs": [],
   "source": [
    "submission_predictions = svc_model.predict(test_copy)"
   ]
  },
  {
   "cell_type": "code",
   "execution_count": 146,
   "metadata": {},
   "outputs": [],
   "source": [
    "test['y'] = submission_predictions\n",
    "\n",
    "test.to_csv('test.csv', index=False)"
   ]
  },
  {
   "cell_type": "code",
   "execution_count": null,
   "metadata": {},
   "outputs": [],
   "source": [
    "def plot_coefficients(classifier, feature_names, top_features=20):\n",
    " coef = classifier.coef_.ravel()\n",
    " top_positive_coefficients = np.argsort(coef)[-top_features:]\n",
    " top_negative_coefficients = np.argsort(coef)[:top_features]\n",
    " top_coefficients = np.hstack([top_negative_coefficients, top_positive_coefficients])\n",
    " # create plot\n",
    " plt.figure(figsize=(15, 5))\n",
    " colors = [‘red’ if c < 0 else ‘blue’ for c in coef[top_coefficients]]\n",
    " plt.bar(np.arange(2 * top_features), coef[top_coefficients], color=colors)\n",
    " feature_names = np.array(feature_names)\n",
    " plt.xticks(np.arange(1, 1 + 2 * top_features), feature_names[top_coefficients], rotation=60, ha=’right’)\n",
    " plt.show()"
   ]
  },
  {
   "cell_type": "code",
   "execution_count": 148,
   "metadata": {},
   "outputs": [
    {
     "ename": "AttributeError",
     "evalue": "'SVC' object has no attribute 'feature_importances_'",
     "output_type": "error",
     "traceback": [
      "\u001b[0;31m---------------------------------------------------------------------------\u001b[0m",
      "\u001b[0;31mAttributeError\u001b[0m                            Traceback (most recent call last)",
      "\u001b[0;32m<ipython-input-148-41a15ba6f21d>\u001b[0m in \u001b[0;36m<module>\u001b[0;34m()\u001b[0m\n\u001b[1;32m      1\u001b[0m \u001b[0mmodel\u001b[0m \u001b[0;34m=\u001b[0m \u001b[0mSVC\u001b[0m\u001b[0;34m(\u001b[0m\u001b[0;34m)\u001b[0m\u001b[0;34m\u001b[0m\u001b[0m\n\u001b[1;32m      2\u001b[0m \u001b[0mmodel\u001b[0m\u001b[0;34m.\u001b[0m\u001b[0mfit\u001b[0m\u001b[0;34m(\u001b[0m\u001b[0mall_features\u001b[0m\u001b[0;34m,\u001b[0m\u001b[0mTargeted_feature\u001b[0m\u001b[0;34m)\u001b[0m\u001b[0;34m\u001b[0m\u001b[0m\n\u001b[0;32m----> 3\u001b[0;31m \u001b[0mpd\u001b[0m\u001b[0;34m.\u001b[0m\u001b[0mSeries\u001b[0m\u001b[0;34m(\u001b[0m\u001b[0mmodel\u001b[0m\u001b[0;34m.\u001b[0m\u001b[0mfeature_importances_\u001b[0m\u001b[0;34m,\u001b[0m\u001b[0mall_features\u001b[0m\u001b[0;34m.\u001b[0m\u001b[0mcolumns\u001b[0m\u001b[0;34m)\u001b[0m\u001b[0;34m.\u001b[0m\u001b[0msort_values\u001b[0m\u001b[0;34m(\u001b[0m\u001b[0mascending\u001b[0m\u001b[0;34m=\u001b[0m\u001b[0mTrue\u001b[0m\u001b[0;34m)\u001b[0m\u001b[0;34m.\u001b[0m\u001b[0mplot\u001b[0m\u001b[0;34m.\u001b[0m\u001b[0mbarh\u001b[0m\u001b[0;34m(\u001b[0m\u001b[0mwidth\u001b[0m\u001b[0;34m=\u001b[0m\u001b[0;36m0.8\u001b[0m\u001b[0;34m)\u001b[0m\u001b[0;34m\u001b[0m\u001b[0m\n\u001b[0m\u001b[1;32m      4\u001b[0m \u001b[0mplt\u001b[0m\u001b[0;34m.\u001b[0m\u001b[0mtitle\u001b[0m\u001b[0;34m(\u001b[0m\u001b[0;34m'Feature Importance in SVM'\u001b[0m\u001b[0;34m)\u001b[0m\u001b[0;34m\u001b[0m\u001b[0m\n\u001b[1;32m      5\u001b[0m \u001b[0mplt\u001b[0m\u001b[0;34m.\u001b[0m\u001b[0mshow\u001b[0m\u001b[0;34m(\u001b[0m\u001b[0;34m)\u001b[0m\u001b[0;34m\u001b[0m\u001b[0m\n",
      "\u001b[0;31mAttributeError\u001b[0m: 'SVC' object has no attribute 'feature_importances_'"
     ]
    }
   ],
   "source": [
    "model = SVC()\n",
    "model.fit(all_features,Targeted_feature)\n",
    "pd.Series(model.feature_importances_,all_features.columns).sort_values(ascending=True).plot.barh(width=0.8)\n",
    "plt.title('Feature Importance in SVM')\n",
    "plt.show()"
   ]
  },
  {
   "cell_type": "code",
   "execution_count": 127,
   "metadata": {},
   "outputs": [
    {
     "name": "stdout",
     "output_type": "stream",
     "text": [
      "--------------The Accuracy of the model----------------------------\n",
      "('The accuracy of the K Nearst Neighbors Classifier is', 87.47)\n",
      "('The cross validated score for K Nearest Neighbors Classifier is:', 75.31)\n"
     ]
    },
    {
     "data": {
      "text/plain": [
       "Text(0.5,1.05,'Confusion_matrix')"
      ]
     },
     "execution_count": 127,
     "metadata": {},
     "output_type": "execute_result"
    },
    {
     "data": {
      "image/png": "[encoded data removed]",
      "text/plain": [
       "<Figure size 432x288 with 2 Axes>"
      ]
     },
     "metadata": {
      "needs_background": "light"
     },
     "output_type": "display_data"
    }
   ],
   "source": [
    "##knn\n",
    "from sklearn.neighbors import KNeighborsClassifier\n",
    "\n",
    "\n",
    "model = KNeighborsClassifier(n_neighbors = 4)\n",
    "model.fit(X_train,y_train)\n",
    "prediction_knn=model.predict(X_test)\n",
    "print('--------------The Accuracy of the model----------------------------')\n",
    "print('The accuracy of the K Nearst Neighbors Classifier is',round(accuracy_score(prediction_knn,y_test)*100,2))\n",
    "kfold = KFold(n_splits=10, random_state=22) # k=10, split the data into 10 equal parts\n",
    "result_knn=cross_val_score(model,all_features,Targeted_feature,cv=10,scoring='accuracy')\n",
    "print('The cross validated score for K Nearest Neighbors Classifier is:',round(result_knn.mean()*100,2))\n",
    "y_pred = cross_val_predict(model,all_features,Targeted_feature,cv=10)\n",
    "sns.heatmap(confusion_matrix(Targeted_feature,y_pred),annot=True,fmt='3.0f',cmap=\"summer\")\n",
    "plt.title('Confusion_matrix', y=1.05, size=15)"
   ]
  },
  {
   "cell_type": "code",
   "execution_count": 128,
   "metadata": {},
   "outputs": [
    {
     "name": "stdout",
     "output_type": "stream",
     "text": [
      "--------------The Accuracy of the model----------------------------\n",
      "('The accuracy of the Gaussian Naive Bayes Classifier is', 80.85)\n",
      "('The cross validated score for Gaussian Naive Bayes classifier is:', 74.45)\n"
     ]
    },
    {
     "data": {
      "text/plain": [
       "Text(0.5,1.05,'Confusion_matrix')"
      ]
     },
     "execution_count": 128,
     "metadata": {},
     "output_type": "execute_result"
    },
    {
     "data": {
      "image/png": "[encoded data removed]",
      "text/plain": [
       "<Figure size 432x288 with 2 Axes>"
      ]
     },
     "metadata": {
      "needs_background": "light"
     },
     "output_type": "display_data"
    }
   ],
   "source": [
    "# Gaussian Naive Bayes\n",
    "from sklearn.naive_bayes import GaussianNB\n",
    "model= GaussianNB()\n",
    "model.fit(X_train,y_train)\n",
    "prediction_gnb=model.predict(X_test)\n",
    "print('--------------The Accuracy of the model----------------------------')\n",
    "print('The accuracy of the Gaussian Naive Bayes Classifier is',round(accuracy_score(prediction_gnb,y_test)*100,2))\n",
    "kfold = KFold(n_splits=10, random_state=22) # k=10, split the data into 10 equal parts\n",
    "result_gnb=cross_val_score(model,all_features,Targeted_feature,cv=10,scoring='accuracy')\n",
    "print('The cross validated score for Gaussian Naive Bayes classifier is:',round(result_gnb.mean()*100,2))\n",
    "y_pred = cross_val_predict(model,all_features,Targeted_feature,cv=10)\n",
    "sns.heatmap(confusion_matrix(Targeted_feature,y_pred),annot=True,fmt='3.0f',cmap=\"summer\")\n",
    "plt.title('Confusion_matrix', y=1.05, size=15)"
   ]
  },
  {
   "cell_type": "code",
   "execution_count": 129,
   "metadata": {},
   "outputs": [
    {
     "name": "stdout",
     "output_type": "stream",
     "text": [
      "--------------The Accuracy of the model----------------------------\n",
      "('The accuracy of the LinearDiscriminantAnalysis is', 88.92)\n",
      "('The cross validated score for AdaBoostClassifier is:', 76.22)\n"
     ]
    },
    {
     "data": {
      "text/plain": [
       "Text(0.5,1.05,'Confusion_matrix')"
      ]
     },
     "execution_count": 129,
     "metadata": {},
     "output_type": "execute_result"
    },
    {
     "data": {
      "image/png": "[encoded data removed]",
      "text/plain": [
       "<Figure size 432x288 with 2 Axes>"
      ]
     },
     "metadata": {
      "needs_background": "light"
     },
     "output_type": "display_data"
    }
   ],
   "source": [
    "from sklearn.discriminant_analysis import LinearDiscriminantAnalysis\n",
    "model= LinearDiscriminantAnalysis()\n",
    "model.fit(X_train,y_train)\n",
    "prediction_lda=model.predict(X_test)\n",
    "print('--------------The Accuracy of the model----------------------------')\n",
    "print('The accuracy of the LinearDiscriminantAnalysis is',round(accuracy_score(prediction_lda,y_test)*100,2))\n",
    "kfold = KFold(n_splits=10, random_state=22) # k=10, split the data into 10 equal parts\n",
    "result_lda=cross_val_score(model,all_features,Targeted_feature,cv=10,scoring='accuracy')\n",
    "print('The cross validated score for AdaBoostClassifier is:',round(result_lda.mean()*100,2))\n",
    "y_pred = cross_val_predict(model,all_features,Targeted_feature,cv=10)\n",
    "sns.heatmap(confusion_matrix(Targeted_feature,y_pred),annot=True,fmt='3.0f',cmap=\"summer\")\n",
    "plt.title('Confusion_matrix', y=1.05, size=15)"
   ]
  },
  {
   "cell_type": "code",
   "execution_count": 132,
   "metadata": {},
   "outputs": [
    {
     "name": "stdout",
     "output_type": "stream",
     "text": [
      "--------------The Accuracy of the model----------------------------\n",
      "('The accuracy of the AdaBoostClassifier is', 89.2)\n",
      "('The cross validated score for AdaBoostClassifier is:', 71.91)\n"
     ]
    },
    {
     "data": {
      "text/plain": [
       "Text(0.5,1.05,'Confusion_matrix')"
      ]
     },
     "execution_count": 132,
     "metadata": {},
     "output_type": "execute_result"
    },
    {
     "data": {
      "image/png": "[encoded data removed]",
      "text/plain": [
       "<Figure size 432x288 with 2 Axes>"
      ]
     },
     "metadata": {
      "needs_background": "light"
     },
     "output_type": "display_data"
    }
   ],
   "source": [
    "from sklearn.ensemble import AdaBoostClassifier\n",
    "model= AdaBoostClassifier()\n",
    "model.fit(X_train,y_train)\n",
    "prediction_adb=model.predict(X_test)\n",
    "print('--------------The Accuracy of the model----------------------------')\n",
    "print('The accuracy of the AdaBoostClassifier is',round(accuracy_score(prediction_adb,y_test)*100,2))\n",
    "kfold = KFold(n_splits=10, random_state=22) # k=10, split the data into 10 equal parts\n",
    "result_adb=cross_val_score(model,all_features,Targeted_feature,cv=10,scoring='accuracy')\n",
    "print('The cross validated score for AdaBoostClassifier is:',round(result_adb.mean()*100,2))\n",
    "y_pred = cross_val_predict(model,all_features,Targeted_feature,cv=10)\n",
    "sns.heatmap(confusion_matrix(Targeted_feature,y_pred),annot=True,fmt='3.0f',cmap=\"summer\")\n",
    "plt.title('Confusion_matrix', y=1.05, size=15)"
   ]
  },
  {
   "cell_type": "code",
   "execution_count": 134,
   "metadata": {},
   "outputs": [
    {
     "data": {
      "text/html": [
       "<div>\n",
       "<style scoped>\n",
       "    .dataframe tbody tr th:only-of-type {\n",
       "        vertical-align: middle;\n",
       "    }\n",
       "\n",
       "    .dataframe tbody tr th {\n",
       "        vertical-align: top;\n",
       "    }\n",
       "\n",
       "    .dataframe thead th {\n",
       "        text-align: right;\n",
       "    }\n",
       "</style>\n",
       "<table border=\"1\" class=\"dataframe\">\n",
       "  <thead>\n",
       "    <tr style=\"text-align: right;\">\n",
       "      <th></th>\n",
       "      <th>Model</th>\n",
       "      <th>Score</th>\n",
       "    </tr>\n",
       "  </thead>\n",
       "  <tbody>\n",
       "    <tr>\n",
       "      <th>0</th>\n",
       "      <td>SVM</td>\n",
       "      <td>0.816779</td>\n",
       "    </tr>\n",
       "    <tr>\n",
       "      <th>2</th>\n",
       "      <td>Logistic Regression</td>\n",
       "      <td>0.796288</td>\n",
       "    </tr>\n",
       "    <tr>\n",
       "      <th>5</th>\n",
       "      <td>Linear Discriminant Analysis</td>\n",
       "      <td>0.762235</td>\n",
       "    </tr>\n",
       "    <tr>\n",
       "      <th>1</th>\n",
       "      <td>KNN</td>\n",
       "      <td>0.753091</td>\n",
       "    </tr>\n",
       "    <tr>\n",
       "      <th>3</th>\n",
       "      <td>Naive Bayes</td>\n",
       "      <td>0.744522</td>\n",
       "    </tr>\n",
       "    <tr>\n",
       "      <th>4</th>\n",
       "      <td>AdaBoostClassifier</td>\n",
       "      <td>0.719138</td>\n",
       "    </tr>\n",
       "  </tbody>\n",
       "</table>\n",
       "</div>"
      ],
      "text/plain": [
       "                          Model     Score\n",
       "0                           SVM  0.816779\n",
       "2           Logistic Regression  0.796288\n",
       "5  Linear Discriminant Analysis  0.762235\n",
       "1                           KNN  0.753091\n",
       "3                   Naive Bayes  0.744522\n",
       "4            AdaBoostClassifier  0.719138"
      ]
     },
     "execution_count": 134,
     "metadata": {},
     "output_type": "execute_result"
    }
   ],
   "source": [
    "models = pd.DataFrame({\n",
    "    'Model': ['SVM', 'KNN', 'Logistic Regression', \n",
    "            'Naive Bayes', 'AdaBoostClassifier', \n",
    "            'Linear Discriminant Analysis', \n",
    "              ],\n",
    "    'Score': [result_svm.mean(), result_knn.mean(), result_lr.mean(), \n",
    "              result_gnb.mean(), result_adb.mean(), \n",
    "              result_lda.mean()]})\n",
    "models.sort_values(by='Score',ascending=False)"
   ]
  },
  {
   "cell_type": "code",
   "execution_count": null,
   "metadata": {},
   "outputs": [],
   "source": [
    "rf_clf.fit(X_train, y_train)"
   ]
  }
 ],
 "metadata": {
  "kernelspec": {
   "display_name": "Python 2",
   "language": "python",
   "name": "python2"
  },
  "language_info": {
   "codemirror_mode": {
    "name": "ipython",
    "version": 2
   },
   "file_extension": ".py",
   "mimetype": "text/x-python",
   "name": "python",
   "nbconvert_exporter": "python",
   "pygments_lexer": "ipython2",
   "version": "2.7.15rc1"
  }
 },
 "nbformat": 4,
 "nbformat_minor": 2
}
